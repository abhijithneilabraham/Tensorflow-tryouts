{
  "nbformat": 4,
  "nbformat_minor": 0,
  "metadata": {
    "colab": {
      "name": "California housing dataset.ipynb",
      "version": "0.3.2",
      "provenance": [],
      "collapsed_sections": [],
      "include_colab_link": true
    },
    "kernelspec": {
      "name": "python3",
      "display_name": "Python 3"
    }
  },
  "cells": [
    {
      "cell_type": "markdown",
      "metadata": {
        "id": "view-in-github",
        "colab_type": "text"
      },
      "source": [
        "<a href=\"https://colab.research.google.com/github/abhijithneilabraham/Tensorflow-tryouts/blob/master/California_housing_dataset.ipynb\" target=\"_parent\"><img src=\"https://colab.research.google.com/assets/colab-badge.svg\" alt=\"Open In Colab\"/></a>"
      ]
    },
    {
      "metadata": {
        "id": "V7-R3CuhdDCW",
        "colab_type": "code",
        "colab": {}
      },
      "cell_type": "code",
      "source": [
        "import numpy as np\n",
        "import pandas as pd\n",
        "import tensorflow as tf\n",
        "import math\n",
        "import shutil\n",
        "from IPython.core import display as ICD"
      ],
      "execution_count": 0,
      "outputs": []
    },
    {
      "metadata": {
        "id": "hG99l81ydN3o",
        "colab_type": "code",
        "colab": {
          "base_uri": "https://localhost:8080/",
          "height": 34
        },
        "outputId": "820d191b-4dab-43a6-cfc1-bbd1c4f5395d"
      },
      "cell_type": "code",
      "source": [
        "#gonna try simple matrix operations here\n",
        "\n",
        "a=tf.constant([2,3,4])\n",
        "b=tf.constant([5,6,7])\n",
        "c=tf.add(a,b)\n",
        "#tf.Session creates an environment for evalutaion of the tensor objects\n",
        "with tf.Session() as sess:\n",
        "  result = sess.run(c)\n",
        "  print(result)\n",
        "  #result is in matrix multiplied form"
      ],
      "execution_count": 4,
      "outputs": [
        {
          "output_type": "stream",
          "text": [
            "[ 7  9 11]\n"
          ],
          "name": "stdout"
        }
      ]
    }
  ]
}